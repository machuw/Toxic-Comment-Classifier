{
 "cells": [
  {
   "cell_type": "code",
   "execution_count": 1,
   "metadata": {
    "_cell_guid": "b1076dfc-b9ad-4769-8c92-a6c4dae69d19",
    "_uuid": "8f2839f25d086af736a60e9eeb907d3b93b6e0e5"
   },
   "outputs": [
    {
     "name": "stderr",
     "output_type": "stream",
     "text": [
      "Using TensorFlow backend.\n"
     ]
    }
   ],
   "source": [
    "import sys, os, re, csv, codecs, numpy as np, pandas as pd\n",
    "import matplotlib.pyplot as plt\n",
    "%matplotlib inline\n",
    "from keras.preprocessing.text import Tokenizer\n",
    "from keras.preprocessing.sequence import pad_sequences\n",
    "from keras.layers import Dense, Input, LSTM, Embedding, Dropout, Activation, Conv1D\n",
    "from keras.layers import Bidirectional, GlobalMaxPooling1D, GlobalAveragePooling1D,  SpatialDropout1D, concatenate\n",
    "from keras.models import Model\n",
    "from keras import initializers, regularizers, constraints, optimizers, layers\n",
    "from sklearn import metrics\n",
    "from sklearn.model_selection import KFold\n",
    "from functools import reduce\n",
    "\n",
    "import seaborn as sns\n",
    "\n",
    "from nltk.corpus import stopwords\n",
    "from nltk.stem import SnowballStemmer"
   ]
  },
  {
   "cell_type": "code",
   "execution_count": 2,
   "metadata": {},
   "outputs": [
    {
     "name": "stderr",
     "output_type": "stream",
     "text": [
      "/Users/mayuanchao/anaconda3/envs/py3/lib/python3.7/site-packages/ipykernel_launcher.py:11: FutureWarning: Sorting because non-concatenation axis is not aligned. A future version\n",
      "of pandas will change to not sort by default.\n",
      "\n",
      "To accept the future behavior, pass 'sort=False'.\n",
      "\n",
      "To retain the current behavior and silence the warning, pass 'sort=True'.\n",
      "\n",
      "  # This is added back by InteractiveShellApp.init_path()\n"
     ]
    },
    {
     "data": {
      "text/html": [
       "<div>\n",
       "<style scoped>\n",
       "    .dataframe tbody tr th:only-of-type {\n",
       "        vertical-align: middle;\n",
       "    }\n",
       "\n",
       "    .dataframe tbody tr th {\n",
       "        vertical-align: top;\n",
       "    }\n",
       "\n",
       "    .dataframe thead th {\n",
       "        text-align: right;\n",
       "    }\n",
       "</style>\n",
       "<table border=\"1\" class=\"dataframe\">\n",
       "  <thead>\n",
       "    <tr style=\"text-align: right;\">\n",
       "      <th></th>\n",
       "      <th>comment_text</th>\n",
       "      <th>id</th>\n",
       "      <th>identity_hate</th>\n",
       "      <th>insult</th>\n",
       "      <th>obscene</th>\n",
       "      <th>severe_toxic</th>\n",
       "      <th>threat</th>\n",
       "      <th>toxic</th>\n",
       "    </tr>\n",
       "  </thead>\n",
       "  <tbody>\n",
       "    <tr>\n",
       "      <th>0</th>\n",
       "      <td>Explanation\\nWhy the edits made under my usern...</td>\n",
       "      <td>0000997932d777bf</td>\n",
       "      <td>0</td>\n",
       "      <td>0</td>\n",
       "      <td>0</td>\n",
       "      <td>0</td>\n",
       "      <td>0</td>\n",
       "      <td>0</td>\n",
       "    </tr>\n",
       "    <tr>\n",
       "      <th>1</th>\n",
       "      <td>D'aww! He matches this background colour I'm s...</td>\n",
       "      <td>000103f0d9cfb60f</td>\n",
       "      <td>0</td>\n",
       "      <td>0</td>\n",
       "      <td>0</td>\n",
       "      <td>0</td>\n",
       "      <td>0</td>\n",
       "      <td>0</td>\n",
       "    </tr>\n",
       "    <tr>\n",
       "      <th>2</th>\n",
       "      <td>Hey man, I'm really not trying to edit war. It...</td>\n",
       "      <td>000113f07ec002fd</td>\n",
       "      <td>0</td>\n",
       "      <td>0</td>\n",
       "      <td>0</td>\n",
       "      <td>0</td>\n",
       "      <td>0</td>\n",
       "      <td>0</td>\n",
       "    </tr>\n",
       "    <tr>\n",
       "      <th>3</th>\n",
       "      <td>\"\\nMore\\nI can't make any real suggestions on ...</td>\n",
       "      <td>0001b41b1c6bb37e</td>\n",
       "      <td>0</td>\n",
       "      <td>0</td>\n",
       "      <td>0</td>\n",
       "      <td>0</td>\n",
       "      <td>0</td>\n",
       "      <td>0</td>\n",
       "    </tr>\n",
       "    <tr>\n",
       "      <th>4</th>\n",
       "      <td>You, sir, are my hero. Any chance you remember...</td>\n",
       "      <td>0001d958c54c6e35</td>\n",
       "      <td>0</td>\n",
       "      <td>0</td>\n",
       "      <td>0</td>\n",
       "      <td>0</td>\n",
       "      <td>0</td>\n",
       "      <td>0</td>\n",
       "    </tr>\n",
       "  </tbody>\n",
       "</table>\n",
       "</div>"
      ],
      "text/plain": [
       "                                        comment_text                id  \\\n",
       "0  Explanation\\nWhy the edits made under my usern...  0000997932d777bf   \n",
       "1  D'aww! He matches this background colour I'm s...  000103f0d9cfb60f   \n",
       "2  Hey man, I'm really not trying to edit war. It...  000113f07ec002fd   \n",
       "3  \"\\nMore\\nI can't make any real suggestions on ...  0001b41b1c6bb37e   \n",
       "4  You, sir, are my hero. Any chance you remember...  0001d958c54c6e35   \n",
       "\n",
       "   identity_hate  insult  obscene  severe_toxic  threat  toxic  \n",
       "0              0       0        0             0       0      0  \n",
       "1              0       0        0             0       0      0  \n",
       "2              0       0        0             0       0      0  \n",
       "3              0       0        0             0       0      0  \n",
       "4              0       0        0             0       0      0  "
      ]
     },
     "execution_count": 2,
     "metadata": {},
     "output_type": "execute_result"
    }
   ],
   "source": [
    "# load data\n",
    "train = pd.read_csv('./data/train.csv')\n",
    "test = pd.read_csv('./data/test.csv')\n",
    "test_labels = pd.read_csv('./data/test_labels.csv')\n",
    "\n",
    "test = pd.merge(test, test_labels)\n",
    "\n",
    "test = test.drop(test.columns[0], axis=1)\n",
    "test = test[test['toxic']!=-1]\n",
    "# using all data for visualization\n",
    "all_data = pd.concat([train, test])\n",
    "\n",
    "# using fast text embeding\n",
    "embedding_file = './data/crawl-300d-2M.vec'\n",
    "\n",
    "all_data.head()"
   ]
  },
  {
   "cell_type": "code",
   "execution_count": 3,
   "metadata": {},
   "outputs": [
    {
     "name": "stdout",
     "output_type": "stream",
     "text": [
      "Total comments  223549\n",
      "Total clean comments  208457\n",
      "Total tags  identity_hate     2117\n",
      "insult           11304\n",
      "obscene          12140\n",
      "severe_toxic      1962\n",
      "threat             689\n",
      "dtype: int64\n"
     ]
    },
    {
     "data": {
      "image/png": "[encoded data removed]",
      "text/plain": [
       "<Figure size 576x288 with 1 Axes>"
      ]
     },
     "metadata": {
      "needs_background": "light"
     },
     "output_type": "display_data"
    }
   ],
   "source": [
    "# Data visualizations\n",
    "# Total clean comments\n",
    "\n",
    "# marking comments without any tags as \"clean\".\n",
    "rowsums = all_data.iloc[:,2:7].sum(axis=1)\n",
    "all_data['clean'] = np.logical_not(rowsums).astype('int')\n",
    "\n",
    "x = all_data.iloc[:,2:].sum()\n",
    "\n",
    "# count number of clean entries\n",
    "print(\"Total comments \", len(all_data))\n",
    "print(\"Total clean comments \", all_data['clean'].sum())\n",
    "print(\"Total tags \", all_data.iloc[:,2:7].sum())\n",
    "\n",
    "# plot a graph of all the tags\n",
    "plt.figure(figsize=(8,4))\n",
    "ax = sns.barplot(x.index, x.values, alpha=0.8)\n",
    "plt.title(\"# per class\")\n",
    "plt.ylabel('# of Occurrences', fontsize=12)\n",
    "plt.xlabel('Type ', fontsize=12)\n",
    "\n",
    "rects = ax.patches\n",
    "labels = x.values\n",
    "\n",
    "for rect, label in zip(rects, labels):\n",
    "    height = rect.get_height()\n",
    "    ax.text(rect.get_x() + rect.get_width()/2, height + 5, label, ha='center', va='bottom')\n",
    "\n",
    "plt.show()"
   ]
  },
  {
   "cell_type": "code",
   "execution_count": 4,
   "metadata": {},
   "outputs": [],
   "source": [
    "# Word count in each comment:\n",
    "all_data['count_word'] = all_data[\"comment_text\"].apply(lambda x: len(str(x).split()))\n",
    "\n",
    "# Unique word count\n",
    "all_data['count_unique_word'] = all_data[\"comment_text\"].apply(lambda x: len(set(str(x).split())))\n",
    "\n",
    "# percentage of unique words\n",
    "all_data['word_unique_percent'] = all_data['count_unique_word']*100/all_data['count_word']"
   ]
  },
  {
   "cell_type": "code",
   "execution_count": 5,
   "metadata": {},
   "outputs": [],
   "source": [
    "# split data by class\n",
    "list_classes = [\"toxic\", \"severe_toxic\", \"obscene\", \"threat\", \"insult\", \"identity_hate\"]\n",
    "y = train[list_classes].values\n",
    "y_test = test[list_classes].values\n",
    "\n",
    "list_sentences_train = train[\"comment_text\"]\n",
    "list_sentences_test = test[\"comment_text\"]"
   ]
  },
  {
   "cell_type": "code",
   "execution_count": 6,
   "metadata": {},
   "outputs": [],
   "source": [
    "# clean data\n",
    "special_character_removal=re.compile(r'[^a-z\\d ]',re.IGNORECASE)\n",
    "replace_numbers=re.compile(r'\\d+',re.IGNORECASE)\n",
    "\n",
    "def text_to_words(text):\n",
    "    # remove special characters\n",
    "    text=special_character_removal.sub('',text)\n",
    "    \n",
    "    # Replace Numbers with character 'n' \n",
    "    text=replace_numbers.sub('n', text)\n",
    "\n",
    "    # Convert words to lower case and split them\n",
    "    text = text.lower().split()\n",
    "    \n",
    "    # remove stop words\n",
    "    stops = set(stopwords.words(\"english\"))\n",
    "    text = [w for w in text if not w in stops]\n",
    "    text = \" \".join(text)\n",
    "\n",
    "    # shorten words to their stems\n",
    "    text = text.split()\n",
    "    stemmer = SnowballStemmer('english')\n",
    "    stemmed_words = [stemmer.stem(word) for word in text]\n",
    "        \n",
    "    return stemmed_words\n",
    "\n",
    "comments = []\n",
    "for text in list_sentences_train:\n",
    "    comments.append(text_to_words(text))\n",
    "    \n",
    "test_comments=[]\n",
    "for text in list_sentences_test:\n",
    "    test_comments.append(text_to_words(text))"
   ]
  },
  {
   "cell_type": "code",
   "execution_count": 7,
   "metadata": {},
   "outputs": [],
   "source": [
    "# tokenize strings to vectors by replacing words with numbers\n",
    "# Set max no of words to keep as 20000.\n",
    "max_features = 20000\n",
    "maxlen = 100\n",
    "tokenizer = Tokenizer(num_words=max_features)\n",
    "tokenizer.fit_on_texts(list(comments + test_comments))\n",
    "\n",
    "list_tokenized_train = tokenizer.texts_to_sequences(list_sentences_train)\n",
    "list_tokenized_test = tokenizer.texts_to_sequences(list_sentences_test)\n",
    "\n",
    "# pad the data to vectors of equal length by padding short sentences and trimming long sentences\n",
    "def pad_data(input):\n",
    "    comments_sequence = tokenizer.texts_to_sequences(input)\n",
    "    return pad_sequences(comments_sequence, maxlen=maxlen)\n",
    "\n",
    "X_t = pad_data(comments)\n",
    "X_te = pad_data(test_comments)"
   ]
  },
  {
   "cell_type": "code",
   "execution_count": 8,
   "metadata": {},
   "outputs": [
    {
     "data": {
      "image/png": "[encoded data removed]",
      "text/plain": [
       "<Figure size 432x288 with 1 Axes>"
      ]
     },
     "metadata": {
      "needs_background": "light"
     },
     "output_type": "display_data"
    }
   ],
   "source": [
    "# visualize word distribution\n",
    "totalNumWords = [len(c) for c in list_tokenized_train]\n",
    "plt.hist(totalNumWords, bins = np.arange(0,410,10))#[0,50,100,150,200,250,300,350,400])#,450,500,550,600,650,700,750,800,850,900])\n",
    "plt.show()"
   ]
  },
  {
   "cell_type": "code",
   "execution_count": 9,
   "metadata": {},
   "outputs": [],
   "source": [
    "# embedding\n",
    "# fast text\n",
    "embed_size =300\n",
    "\n",
    "def get_coefs(word, *arr): return word, np.asarray(arr, dtype='float32')\n",
    "embeddings_index = dict(get_coefs(*o.rstrip().rsplit(' ')) for o in open(embedding_file, encoding=\"utf8\"))\n",
    "\n",
    "word_index = tokenizer.word_index\n",
    "nb_words = min(max_features, len(word_index))\n",
    "embedding_matrix = np.zeros((nb_words, embed_size))\n",
    "for word, i in word_index.items():\n",
    "    if i >= max_features: continue\n",
    "    embedding_vector = embeddings_index.get(word)\n",
    "    if embedding_vector is not None: embedding_matrix[i] = embedding_vector"
   ]
  },
  {
   "cell_type": "code",
   "execution_count": 10,
   "metadata": {},
   "outputs": [],
   "source": [
    "# Define keras input layer\n",
    "input = Input(shape=(maxlen, )) # maxlen = 100 as defined earlier\n",
    "\n",
    "def get_model(lstm_size, cnn_size, cnn_stride, dropout):\n",
    "    # embedding layer\n",
    "    x = Embedding(max_features, embed_size, weights=[embedding_matrix])(input)\n",
    "    x = SpatialDropout1D(dropout)(x)\n",
    "    \n",
    "    # bidirectional lstm layer\n",
    "    x = Bidirectional(LSTM(lstm_size, return_sequences=True,name='lstm_layer'))(x)\n",
    "    \n",
    "    # output of lstm is feeded to a cnn network\n",
    "    x = Conv1D(cnn_size, kernel_size = cnn_stride, padding = \"valid\", kernel_initializer = \"he_uniform\")(x)\n",
    "\n",
    "    # pooling & dropout\n",
    "    avg_pool = GlobalAveragePooling1D()(x)\n",
    "    max_pool = GlobalMaxPooling1D()(x)\n",
    "    x = concatenate([avg_pool, max_pool])\n",
    "    x = Dropout(dropout)(x)\n",
    "\n",
    "    # sigmoid for classification\n",
    "    x = Dense(6, activation=\"sigmoid\")(x)\n",
    "\n",
    "    # create model\n",
    "    model = Model(inputs=input, outputs=x)\n",
    "    \n",
    "    # compile model\n",
    "    model.compile(loss='binary_crossentropy',\n",
    "                  optimizer='adam',\n",
    "                  metrics=['accuracy'])\n",
    "\n",
    "    model.summary()\n",
    "    \n",
    "    return model"
   ]
  },
  {
   "cell_type": "code",
   "execution_count": null,
   "metadata": {},
   "outputs": [
    {
     "name": "stdout",
     "output_type": "stream",
     "text": [
      "WARNING:tensorflow:From /Users/mayuanchao/anaconda3/envs/py3/lib/python3.7/site-packages/tensorflow/python/framework/op_def_library.py:263: colocate_with (from tensorflow.python.framework.ops) is deprecated and will be removed in a future version.\n",
      "Instructions for updating:\n",
      "Colocations handled automatically by placer.\n",
      "WARNING:tensorflow:From /Users/mayuanchao/anaconda3/envs/py3/lib/python3.7/site-packages/keras/backend/tensorflow_backend.py:3445: calling dropout (from tensorflow.python.ops.nn_ops) with keep_prob is deprecated and will be removed in a future version.\n",
      "Instructions for updating:\n",
      "Please use `rate` instead of `keep_prob`. Rate should be set to `rate = 1 - keep_prob`.\n",
      "__________________________________________________________________________________________________\n",
      "Layer (type)                    Output Shape         Param #     Connected to                     \n",
      "==================================================================================================\n",
      "input_1 (InputLayer)            (None, 100)          0                                            \n",
      "__________________________________________________________________________________________________\n",
      "embedding_1 (Embedding)         (None, 100, 300)     6000000     input_1[0][0]                    \n",
      "__________________________________________________________________________________________________\n",
      "spatial_dropout1d_1 (SpatialDro (None, 100, 300)     0           embedding_1[0][0]                \n",
      "__________________________________________________________________________________________________\n",
      "bidirectional_1 (Bidirectional) (None, 100, 60)      79440       spatial_dropout1d_1[0][0]        \n",
      "__________________________________________________________________________________________________\n",
      "conv1d_1 (Conv1D)               (None, 99, 30)       3630        bidirectional_1[0][0]            \n",
      "__________________________________________________________________________________________________\n",
      "global_average_pooling1d_1 (Glo (None, 30)           0           conv1d_1[0][0]                   \n",
      "__________________________________________________________________________________________________\n",
      "global_max_pooling1d_1 (GlobalM (None, 30)           0           conv1d_1[0][0]                   \n",
      "__________________________________________________________________________________________________\n",
      "concatenate_1 (Concatenate)     (None, 60)           0           global_average_pooling1d_1[0][0] \n",
      "                                                                 global_max_pooling1d_1[0][0]     \n",
      "__________________________________________________________________________________________________\n",
      "dropout_1 (Dropout)             (None, 60)           0           concatenate_1[0][0]              \n",
      "__________________________________________________________________________________________________\n",
      "dense_1 (Dense)                 (None, 6)            366         dropout_1[0][0]                  \n",
      "==================================================================================================\n",
      "Total params: 6,083,436\n",
      "Trainable params: 6,083,436\n",
      "Non-trainable params: 0\n",
      "__________________________________________________________________________________________________\n",
      "WARNING:tensorflow:From /Users/mayuanchao/anaconda3/envs/py3/lib/python3.7/site-packages/tensorflow/python/ops/math_ops.py:3066: to_int32 (from tensorflow.python.ops.math_ops) is deprecated and will be removed in a future version.\n",
      "Instructions for updating:\n",
      "Use tf.cast instead.\n",
      "WARNING:tensorflow:From /Users/mayuanchao/anaconda3/envs/py3/lib/python3.7/site-packages/tensorflow/python/ops/math_grad.py:102: div (from tensorflow.python.ops.math_ops) is deprecated and will be removed in a future version.\n",
      "Instructions for updating:\n",
      "Deprecated in favor of operator or tf.math.divide.\n",
      "Train on 114890 samples, validate on 28723 samples\n",
      "Epoch 1/2\n"
     ]
    }
   ],
   "source": [
    "batch_size = 1780\n",
    "epochs = 2\n",
    "kfold = KFold(n_splits= 10, shuffle=True)\n",
    "lstm = [30, 60, 90, 120]\n",
    "cnn = [30, 30, 60, 60]\n",
    "cnn_stride = [2, 3, 2, 3]\n",
    "dropout = [0.1, 0.2, 0.2, 0.3]\n",
    "history_dfs = []\n",
    "for i in range(4):\n",
    "    histories = []\n",
    "    model = get_model(lstm[i], cnn[i], cnn_stride[i], dropout[i])\n",
    "    for train, test in kfold.split(X_t):\n",
    "        history = model.fit(X_t[train], y[train], batch_size=batch_size, epochs=epochs, validation_split=0.2)\n",
    "        histories.append(history)\n",
    "    history_data = [h.history for h in histories]\n",
    "    for h in history_data:\n",
    "        for key, value in h.items():\n",
    "            h[key] = reduce(lambda x, y: (x + y) / 2, value)\n",
    "    history_df = pd.DataFrame(history_data)\n",
    "    history_dfs.append(history_df)"
   ]
  },
  {
   "cell_type": "code",
   "execution_count": null,
   "metadata": {},
   "outputs": [],
   "source": [
    "history_dfs"
   ]
  },
  {
   "cell_type": "code",
   "execution_count": null,
   "metadata": {},
   "outputs": [],
   "source": [
    "for i in range(len(history_dfs)):\n",
    "    fig = plt.figure(i)\n",
    "    title = \"lstm cells \" + str(lstm[i]) + \" | cnn filters \" + str(cnn[i]) + \" | cnn strides \" + str(cnn_stride[i]) + \" | dropout \" + str(dropout[i]) + \"\"\n",
    "    plt.title(title)\n",
    "    plt.xlabel('Folds')\n",
    "    sns.lineplot(data=history_dfs[1])"
   ]
  },
  {
   "cell_type": "code",
   "execution_count": null,
   "metadata": {},
   "outputs": [],
   "source": [
    "for i in range(len(history_dfs)):\n",
    "    title = \"lstm cells \" + str(lstm[i]) + \" | cnn filters \" + str(cnn[i]) + \" | cnn strides \" + str(cnn_stride[i]) + \" | dropout \" + str(dropout[i]) + \"\"\n",
    "    print(title)\n",
    "    mean_validation_loss = np.mean(history_dfs[i].val_loss.values)\n",
    "    variance_validation_loss = np.var(history_dfs[i].val_loss.values)\n",
    "\n",
    "    mean_validation_accuracy = np.mean(history_dfs[i].val_acc.values)\n",
    "    variance_validation_accuracy = np.var(history_dfs[i].val_acc.values)\n",
    "\n",
    "    print(\"Mean of validation loss :\", mean_validation_loss)\n",
    "    print(\"Variance of validation loss :\", variance_validation_loss)\n",
    "    print(\"Mean of validation accuracy :\", mean_validation_accuracy)\n",
    "    print(\"Variance of validation accuracy :\", variance_validation_accuracy)"
   ]
  },
  {
   "cell_type": "code",
   "execution_count": null,
   "metadata": {},
   "outputs": [],
   "source": [
    "mean_validation_loss = np.mean(history_df.val_loss.values)\n",
    "variance_validation_loss = np.var(history_df.val_loss.values)\n",
    "\n",
    "mean_validation_accuracy = np.mean(history_df.val_acc.values)\n",
    "variance_validation_accuracy = np.var(history_df.val_acc.values)\n",
    "\n",
    "print(\"Mean of validation loss :\", mean_validation_loss)\n",
    "print(\"Variance of validation loss :\", variance_validation_loss)\n",
    "print(\"Mean of validation accuracy :\", mean_validation_accuracy)\n",
    "print(\"Variance of validation accuracy :\", variance_validation_accuracy)"
   ]
  },
  {
   "cell_type": "code",
   "execution_count": null,
   "metadata": {},
   "outputs": [],
   "source": [
    "# test model\n",
    "batch_size = 1760\n",
    "epochs = 2\n",
    "predictions = model.predict(X_te, batch_size=batch_size, verbose=1)"
   ]
  },
  {
   "cell_type": "code",
   "execution_count": null,
   "metadata": {},
   "outputs": [],
   "source": [
    "# load lables\n",
    "#test_labels = pd.read_csv('../data/test_labels.csv')\n",
    "#test_labels = test_labels.drop(test_labels.columns[0], axis=1)\n",
    "#y_test = test_labels[list_classes].values\n"
   ]
  },
  {
   "cell_type": "code",
   "execution_count": null,
   "metadata": {},
   "outputs": [],
   "source": [
    "# using all data for visualization\n",
    "for l in range(len(list_classes)):\n",
    "    print(\"\\n\" + list_classes[l])\n",
    "    print(\"roc auc score \", metrics.roc_auc_score(y_test[:,l], predictions[:,l]))\n",
    "    print(\"accuracy \", metrics.accuracy_score(y_test[:,l], np.round(predictions[:,l]).astype(np.int)))\n",
    "    print(\"precision score \", metrics.precision_score(y_test[:,l], np.round(predictions[:,l]).astype(np.int),  average='weighted'))\n",
    "    print(\"recall score \", metrics.recall_score(y_test[:,l], np.round(predictions[:,l]).astype(np.int),  average='weighted'))\n",
    "    print(\"f1 score \", metrics.f1_score(y_test[:,l], np.round(predictions[:,l]).astype(np.int), average='weighted'))\n",
    "\n",
    "print(\"\\n\" + \"Overall\")\n",
    "#print(\"roc auc score \", metrics.roc_auc_score(y_test, predictions))\n",
    "print(\"accuracy \", metrics.accuracy_score(y_test, np.round(predictions).astype(np.int)))\n",
    "print(\"precision score \", metrics.precision_score(y_test, np.round(predictions).astype(np.int),  average='weighted'))\n",
    "print(\"recall score \", metrics.recall_score(y_test, np.round(predictions).astype(np.int),  average='weighted'))\n",
    "print(\"f1 score \", metrics.f1_score(y_test, np.round(predictions).astype(np.int), average='weighted'))"
   ]
  },
  {
   "cell_type": "code",
   "execution_count": null,
   "metadata": {},
   "outputs": [],
   "source": [
    "y_true = np.array([0, 0, 1, -1])\n",
    "y_scores = np.array([0.1, 0.4, 0.35, 0.8])\n",
    "metrics.roc_auc_score(y_true, y_scores)\n"
   ]
  },
  {
   "cell_type": "code",
   "execution_count": null,
   "metadata": {},
   "outputs": [],
   "source": []
  }
 ],
 "metadata": {
  "kernelspec": {
   "display_name": "Python 3",
   "language": "python",
   "name": "python3"
  },
  "language_info": {
   "codemirror_mode": {
    "name": "ipython",
    "version": 3
   },
   "file_extension": ".py",
   "mimetype": "text/x-python",
   "name": "python",
   "nbconvert_exporter": "python",
   "pygments_lexer": "ipython3",
   "version": "3.7.3"
  }
 },
 "nbformat": 4,
 "nbformat_minor": 1
}
